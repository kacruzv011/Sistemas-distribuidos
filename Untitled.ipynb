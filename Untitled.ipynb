{
 "cells": [
  {
   "cell_type": "code",
   "execution_count": 2,
   "id": "d31cdcdb-beb1-4716-8468-602537974bbf",
   "metadata": {},
   "outputs": [
    {
     "name": "stdout",
     "output_type": "stream",
     "text": [
      "Clonando en 'HPC'...\n",
      "remote: Enumerating objects: 29, done.\u001b[K\n",
      "remote: Counting objects: 100% (29/29), done.\u001b[K\n",
      "remote: Compressing objects: 100% (20/20), done.\u001b[K\n",
      "remote: Total 29 (delta 5), reused 26 (delta 5), pack-reused 0 (from 0)\u001b[K\n",
      "Recibiendo objetos: 100% (29/29), 7.89 MiB | 3.02 MiB/s, listo.\n",
      "Resolviendo deltas: 100% (5/5), listo.\n"
     ]
    }
   ],
   "source": [
    "!git clone https://github.com/cagomezv/HPC.git"
   ]
  },
  {
   "cell_type": "code",
   "execution_count": 4,
   "id": "d338e4f3-6a9b-4805-a22f-a35e353a2935",
   "metadata": {},
   "outputs": [
    {
     "name": "stdout",
     "output_type": "stream",
     "text": [
      "Arquitectura:                            x86_64\n",
      "  modo(s) de operación de las CPUs:      32-bit, 64-bit\n",
      "  Address sizes:                         48 bits physical, 48 bits virtual\n",
      "  Orden de los bytes:                    Little Endian\n",
      "CPU(s):                                  8\n",
      "  Lista de la(s) CPU(s) en línea:        0-7\n",
      "ID de fabricante:                        AuthenticAMD\n",
      "  Nombre del modelo:                     AMD Ryzen 3 5300U with Radeon Graphics\n",
      "    Familia de CPU:                      23\n",
      "    Modelo:                              104\n",
      "    Hilo(s) de procesamiento por núcleo: 2\n",
      "    Núcleo(s) por «socket»:              4\n",
      "    «Socket(s)»                          1\n",
      "    Revisión:                            1\n",
      "    Frequency boost:                     enabled\n",
      "    CPU(s) scaling MHz:                  36%\n",
      "    CPU MHz máx.:                        3900,0000\n",
      "    CPU MHz mín.:                        400,0000\n",
      "    BogoMIPS:                            5190,19\n",
      "    Indicadores:                         fpu vme de pse tsc msr pae mce cx8 apic\n",
      "                                          sep mtrr pge mca cmov pat pse36 clflus\n",
      "                                         h mmx fxsr sse sse2 ht syscall nx mmxex\n",
      "                                         t fxsr_opt pdpe1gb rdtscp lm constant_t\n",
      "                                         sc rep_good nopl xtopology nonstop_tsc \n",
      "                                         cpuid extd_apicid aperfmperf rapl pni p\n",
      "                                         clmulqdq monitor ssse3 fma cx16 sse4_1 \n",
      "                                         sse4_2 movbe popcnt aes xsave avx f16c \n",
      "                                         rdrand lahf_lm cmp_legacy svm extapic c\n",
      "                                         r8_legacy abm sse4a misalignsse 3dnowpr\n",
      "                                         efetch osvw ibs skinit wdt tce topoext \n",
      "                                         perfctr_core perfctr_nb bpext perfctr_l\n",
      "                                         lc mwaitx cpb cat_l3 cdp_l3 hw_pstate s\n",
      "                                         sbd mba ibrs ibpb stibp vmmcall fsgsbas\n",
      "                                         e bmi1 avx2 smep bmi2 cqm rdt_a rdseed \n",
      "                                         adx smap clflushopt clwb sha_ni xsaveop\n",
      "                                         t xsavec xgetbv1 cqm_llc cqm_occup_llc \n",
      "                                         cqm_mbm_total cqm_mbm_local clzero irpe\n",
      "                                         rf xsaveerptr rdpru wbnoinvd cppc arat \n",
      "                                         npt lbrv svm_lock nrip_save tsc_scale v\n",
      "                                         mcb_clean flushbyasid decodeassists pau\n",
      "                                         sefilter pfthreshold avic v_vmsave_vmlo\n",
      "                                         ad vgif v_spec_ctrl umip rdpid overflow\n",
      "                                         _recov succor smca\n",
      "Virtualization features:                 \n",
      "  Virtualización:                        AMD-V\n",
      "Caches (sum of all):                     \n",
      "  L1d:                                   128 KiB (4 instances)\n",
      "  L1i:                                   128 KiB (4 instances)\n",
      "  L2:                                    2 MiB (4 instances)\n",
      "  L3:                                    4 MiB (1 instance)\n",
      "NUMA:                                    \n",
      "  Modo(s) NUMA:                          1\n",
      "  CPU(s) del nodo NUMA 0:                0-7\n",
      "Vulnerabilities:                         \n",
      "  Gather data sampling:                  Not affected\n",
      "  Itlb multihit:                         Not affected\n",
      "  L1tf:                                  Not affected\n",
      "  Mds:                                   Not affected\n",
      "  Meltdown:                              Not affected\n",
      "  Mmio stale data:                       Not affected\n",
      "  Reg file data sampling:                Not affected\n",
      "  Retbleed:                              Mitigation; untrained return thunk; SMT\n",
      "                                          enabled with STIBP protection\n",
      "  Spec rstack overflow:                  Mitigation; Safe RET\n",
      "  Spec store bypass:                     Mitigation; Speculative Store Bypass di\n",
      "                                         sabled via prctl\n",
      "  Spectre v1:                            Mitigation; usercopy/swapgs barriers an\n",
      "                                         d __user pointer sanitization\n",
      "  Spectre v2:                            Mitigation; Retpolines; IBPB conditiona\n",
      "                                         l; STIBP always-on; RSB filling; PBRSB-\n",
      "                                         eIBRS Not affected; BHI Not affected\n",
      "  Srbds:                                 Not affected\n",
      "  Tsx async abort:                       Not affected\n"
     ]
    }
   ],
   "source": [
    "!lscpu"
   ]
  },
  {
   "cell_type": "code",
   "execution_count": 5,
   "id": "3f91c83b-6377-40e2-ac93-27a84e8314d9",
   "metadata": {},
   "outputs": [
    {
     "name": "stdout",
     "output_type": "stream",
     "text": [
      "distribuidos  HPC  jupyter  Untitled.ipynb\n"
     ]
    }
   ],
   "source": [
    "!ls\n"
   ]
  },
  {
   "cell_type": "code",
   "execution_count": 6,
   "id": "984d0c07-6def-42c6-a359-d9dd4a3bc35d",
   "metadata": {},
   "outputs": [],
   "source": [
    "!cd HPC/"
   ]
  },
  {
   "cell_type": "code",
   "execution_count": 7,
   "id": "04ef9569-568e-46c4-a372-dfa0a6db18b5",
   "metadata": {},
   "outputs": [
    {
     "name": "stdout",
     "output_type": "stream",
     "text": [
      "distribuidos  HPC  jupyter  Untitled.ipynb\n"
     ]
    }
   ],
   "source": [
    "!ls"
   ]
  },
  {
   "cell_type": "code",
   "execution_count": null,
   "id": "d62287c2-eaa3-4595-beef-c879f54a901b",
   "metadata": {},
   "outputs": [],
   "source": [
    "g++ -o3 example2 HPC/2. Optimizacion/codigos/example2.cpp"
   ]
  }
 ],
 "metadata": {
  "kernelspec": {
   "display_name": "Python 3 (ipykernel)",
   "language": "python",
   "name": "python3"
  },
  "language_info": {
   "codemirror_mode": {
    "name": "ipython",
    "version": 3
   },
   "file_extension": ".py",
   "mimetype": "text/x-python",
   "name": "python",
   "nbconvert_exporter": "python",
   "pygments_lexer": "ipython3",
   "version": "3.12.3"
  }
 },
 "nbformat": 4,
 "nbformat_minor": 5
}
